{
 "cells": [
  {
   "cell_type": "markdown",
   "metadata": {
    "jupyter": {
     "outputs_hidden": false
    }
   },
   "source": [
    "## 1.数据加载及标准化"
   ]
  },
  {
   "cell_type": "code",
   "execution_count": 4,
   "metadata": {
    "collapsed": false,
    "execution": {
     "iopub.execute_input": "2023-06-27T13:28:36.084979Z",
     "iopub.status.busy": "2023-06-27T13:28:36.083586Z",
     "iopub.status.idle": "2023-06-27T13:28:36.096751Z",
     "shell.execute_reply": "2023-06-27T13:28:36.095672Z",
     "shell.execute_reply.started": "2023-06-27T13:28:36.084922Z"
    },
    "jupyter": {
     "outputs_hidden": false
    },
    "scrolled": true
   },
   "outputs": [],
   "source": [
    "from sklearn.preprocessing import StandardScaler\n",
    "from sklearn.metrics import accuracy_score\n",
    "from sklearn.datasets import load_wine\n",
    "\n",
    "# 加载数据\n",
    "wine = load_wine()\n",
    "# 标准化\n",
    "scaler =StandardScaler()\n",
    "X = scaler.fit_transform(wine.data)\n",
    "y = wine.target"
   ]
  },
  {
   "cell_type": "markdown",
   "metadata": {
    "jupyter": {
     "outputs_hidden": false
    }
   },
   "source": [
    "## 2.自定义K-means算法函数"
   ]
  },
  {
   "cell_type": "code",
   "execution_count": 5,
   "metadata": {
    "execution": {
     "iopub.execute_input": "2023-06-27T13:28:36.098904Z",
     "iopub.status.busy": "2023-06-27T13:28:36.098603Z",
     "iopub.status.idle": "2023-06-27T13:28:37.255707Z",
     "shell.execute_reply": "2023-06-27T13:28:37.253869Z",
     "shell.execute_reply.started": "2023-06-27T13:28:36.098879Z"
    },
    "scrolled": true
   },
   "outputs": [],
   "source": [
    "import numpy as np\r\n",
    "def euclidean_distance(one_sample, X):\r\n",
    "    one_sample = one_sample.reshape(1, -1)\r\n",
    "    distances = np.power(np.tile(one_sample, (X.shape[0], 1)) - X, 2).sum(axis=1)\r\n",
    "    return distances"
   ]
  },
  {
   "cell_type": "code",
   "execution_count": 6,
   "metadata": {
    "collapsed": false,
    "execution": {
     "iopub.execute_input": "2023-06-27T13:28:37.258998Z",
     "iopub.status.busy": "2023-06-27T13:28:37.258562Z",
     "iopub.status.idle": "2023-06-27T13:28:37.367906Z",
     "shell.execute_reply": "2023-06-27T13:28:37.366306Z",
     "shell.execute_reply.started": "2023-06-27T13:28:37.258958Z"
    },
    "jupyter": {
     "outputs_hidden": false
    },
    "scrolled": true
   },
   "outputs": [],
   "source": [
    "class Kmeans():\n",
    "    '''\n",
    "    Parameters:\n",
    "    k:int\n",
    "        聚类数目\n",
    "    max_iter:int\n",
    "        最大迭代次数\n",
    "    varepsilon:float\n",
    "        收敛阈值\n",
    "    '''\n",
    "    def __init__(self, k=2, max_iter=500, varepsilon=1e-4):\n",
    "        self.k = k\n",
    "        self.max_iter = max_iter\n",
    "        self.varepsilon = varepsilon\n",
    "        np.random.seed(1)\n",
    "    #从样本中随机选取k个样本作为初始聚类中心点\n",
    "    def init_random_centroids(self, X):\n",
    "        n_samples, n_features = X.shape\n",
    "        centroids = np.zeros((self.k, n_features))\n",
    "        for i in range(self.k):\n",
    "            centroid = X[np.random.choice(range(n_samples))]\n",
    "            centroids[i] = centroid\n",
    "        return centroids\n",
    "    #返回距离该样本最近的一个中心索引[0,k)\n",
    "    def _closest_centroid(self, sample, centroids):\n",
    "        distances = euclidean_distance(sample, centroids)\n",
    "        closest_i = np.argmin(distances)\n",
    "        return closest_i\n",
    "    #进行聚类\n",
    "    def create_clusters(self, centroids, X):\n",
    "        clusters = [[] for _ in range(self.k)]\n",
    "        for sample_i, sample in enumerate(X):\n",
    "            centroid_i = self._closest_centroid(sample, centroids)\n",
    "            clusters[centroid_i].append(sample_i)\n",
    "        return clusters\n",
    "    #更新中心\n",
    "    def update_centroids(self, clusters, X):\n",
    "        n_features = X.shape[1]\n",
    "        centroids = np.zeros((self.k, n_features))\n",
    "        for i, cluster in enumerate(clusters):\n",
    "            centroid = np.mean(X[cluster], axis=0)\n",
    "            centroids[i] = centroid\n",
    "        return centroids\n",
    "    #将所有样本进行归类\n",
    "    def get_cluster_labels(self, clusters, X):\n",
    "        y_pred = np.zeros(X.shape[0])\n",
    "        for cluster_i, cluster in enumerate(clusters):\n",
    "            for sample_i in cluster:\n",
    "                y_pred[sample_i] = cluster_i\n",
    "        return y_pred\n",
    "    #进行聚类，返回标签\n",
    "    def predict(self, X):\n",
    "        centroids = self.init_random_centroids(X)\n",
    "        for _ in range(self.max_iter):\n",
    "            clusters = self.create_clusters(centroids, X)\n",
    "            former_centroids = centroids\n",
    "            #更新\n",
    "            centroids = self.update_centroids(clusters, X)\n",
    "            #收敛\n",
    "            diff = centroids - former_centroids\n",
    "            if diff.any() < self.varepsilon:\n",
    "                break\n",
    "        return self.get_cluster_labels(clusters, X)"
   ]
  },
  {
   "cell_type": "markdown",
   "metadata": {},
   "source": [
    "## 3.对数据集进行聚类"
   ]
  },
  {
   "cell_type": "code",
   "execution_count": 7,
   "metadata": {
    "execution": {
     "iopub.execute_input": "2023-06-27T13:28:37.370061Z",
     "iopub.status.busy": "2023-06-27T13:28:37.369148Z",
     "iopub.status.idle": "2023-06-27T13:28:37.926695Z",
     "shell.execute_reply": "2023-06-27T13:28:37.924876Z",
     "shell.execute_reply.started": "2023-06-27T13:28:37.370027Z"
    },
    "scrolled": true
   },
   "outputs": [],
   "source": [
    "# 创建聚类模型\r\n",
    "km = Kmeans(k=3)\r\n",
    "y_pred = km.predict(X)"
   ]
  },
  {
   "cell_type": "markdown",
   "metadata": {},
   "source": [
    "*由于聚类标签和实际的不同，需标签统一化*"
   ]
  },
  {
   "cell_type": "code",
   "execution_count": 8,
   "metadata": {
    "execution": {
     "iopub.execute_input": "2023-06-27T13:30:02.602618Z",
     "iopub.status.busy": "2023-06-27T13:30:02.601388Z",
     "iopub.status.idle": "2023-06-27T13:30:02.621638Z",
     "shell.execute_reply": "2023-06-27T13:30:02.620336Z",
     "shell.execute_reply.started": "2023-06-27T13:30:02.602572Z"
    },
    "scrolled": true
   },
   "outputs": [
    {
     "data": {
      "text/plain": [
       "array([-1, -1, -1, -1, -1, -1, -1, -1, -1, -1, -1, -1, -1, -1, -1, -1, -1,\n",
       "       -1, -1, -1, -1, -1, -1, -1, -1, -1, -1, -1, -1, -1, -1, -1, -1, -1,\n",
       "       -1, -1, -1, -1, -1, -1, -1, -1, -1, -1, -1, -1, -1, -1, -1, -1, -1,\n",
       "       -1, -1, -1, -1, -1, -1, -1, -1, -2, -2, -2, -2, -2, -2, -2, -2, -2,\n",
       "       -2, -2, -2, -2, -2, -2, -2, -2, -2, -2, -2, -2, -2, -2, -2, -2, -2,\n",
       "       -2, -2, -2, -2, -2, -2, -2, -2, -2, -2, -2, -2, -2, -2, -2, -2, -2,\n",
       "       -2, -2, -2, -2, -2, -2, -2, -2, -2, -2, -2, -2, -2, -2, -2, -2, -2,\n",
       "       -2, -2, -2, -2, -2, -2, -2, -2, -2, -2, -2, -3, -3, -3, -3, -3, -3,\n",
       "       -3, -3, -3, -3, -3, -3, -3, -3, -3, -3, -3, -3, -3, -3, -3, -3, -3,\n",
       "       -3, -3, -3, -3, -3, -3, -3, -3, -3, -3, -3, -3, -3, -3, -3, -3, -3,\n",
       "       -3, -3, -3, -3, -3, -3, -3, -3])"
      ]
     },
     "execution_count": 8,
     "metadata": {},
     "output_type": "execute_result"
    }
   ],
   "source": [
    "y[y == 0] = -1\r\n",
    "y[y == 1] = -2\r\n",
    "y[y == 2] = -3\r\n",
    "y"
   ]
  },
  {
   "cell_type": "code",
   "execution_count": 9,
   "metadata": {
    "execution": {
     "iopub.execute_input": "2023-06-27T13:30:56.312095Z",
     "iopub.status.busy": "2023-06-27T13:30:56.310499Z",
     "iopub.status.idle": "2023-06-27T13:30:56.323617Z",
     "shell.execute_reply": "2023-06-27T13:30:56.322288Z",
     "shell.execute_reply.started": "2023-06-27T13:30:56.312046Z"
    },
    "scrolled": true
   },
   "outputs": [
    {
     "data": {
      "text/plain": [
       "array([-1., -1., -1., -1., -1., -1., -1., -1., -1., -1., -1., -1., -1.,\n",
       "       -1., -1., -1., -1., -1., -1., -1., -1., -1., -1., -1., -1., -1.,\n",
       "       -1., -1., -1., -1., -1., -1., -1., -1., -1., -1., -1., -1., -1.,\n",
       "       -1., -1., -1., -1., -1., -1., -1., -1., -1., -1., -1., -1., -1.,\n",
       "       -1., -1., -1., -1., -1., -1., -1., -2., -2., -3., -2., -2., -2.,\n",
       "       -2., -2., -2., -2., -1., -2., -2., -2., -1., -2., -2., -2., -2.,\n",
       "       -1., -2., -2., -2., -2., -3., -2., -2., -2., -2., -2., -2., -2.,\n",
       "       -2., -2., -2., -2., -1., -2., -2., -2., -2., -2., -2., -2., -2.,\n",
       "       -2., -2., -2., -2., -2., -2., -2., -2., -2., -2., -2., -2., -2.,\n",
       "       -2., -3., -2., -2., -1., -2., -2., -2., -2., -2., -2., -2., -2.,\n",
       "       -3., -3., -3., -3., -3., -3., -3., -3., -3., -3., -3., -3., -3.,\n",
       "       -3., -3., -3., -3., -3., -3., -3., -3., -3., -3., -3., -3., -3.,\n",
       "       -3., -3., -3., -3., -3., -3., -3., -3., -3., -3., -3., -3., -3.,\n",
       "       -3., -3., -3., -3., -3., -3., -3., -3., -3.])"
      ]
     },
     "execution_count": 9,
     "metadata": {},
     "output_type": "execute_result"
    }
   ],
   "source": [
    "y_pred[y_pred == 0] = -1\r\n",
    "y_pred[y_pred == 2] = -2\r\n",
    "y_pred[y_pred == 1] = -3\r\n",
    "y_pred"
   ]
  },
  {
   "cell_type": "code",
   "execution_count": 10,
   "metadata": {
    "execution": {
     "iopub.execute_input": "2023-06-27T13:32:28.210403Z",
     "iopub.status.busy": "2023-06-27T13:32:28.209771Z",
     "iopub.status.idle": "2023-06-27T13:32:28.218249Z",
     "shell.execute_reply": "2023-06-27T13:32:28.216580Z",
     "shell.execute_reply.started": "2023-06-27T13:32:28.210371Z"
    },
    "scrolled": true
   },
   "outputs": [
    {
     "name": "stdout",
     "output_type": "stream",
     "text": [
      "聚类的精确度：0.96\r\n"
     ]
    }
   ],
   "source": [
    "# 计算吻合度\r\n",
    "acc = accuracy_score(y, y_pred)\r\n",
    "print(\"聚类的精确度：{:.2f}\".format(acc))"
   ]
  },
  {
   "cell_type": "markdown",
   "metadata": {},
   "source": [
    "## 4.调用sklearn中的KMeans"
   ]
  },
  {
   "cell_type": "code",
   "execution_count": 15,
   "metadata": {
    "execution": {
     "iopub.execute_input": "2023-06-27T13:40:30.509005Z",
     "iopub.status.busy": "2023-06-27T13:40:30.508365Z",
     "iopub.status.idle": "2023-06-27T13:40:30.514383Z",
     "shell.execute_reply": "2023-06-27T13:40:30.513393Z",
     "shell.execute_reply.started": "2023-06-27T13:40:30.508974Z"
    },
    "scrolled": true
   },
   "outputs": [],
   "source": [
    "from sklearn.cluster import KMeans\r\n",
    "def kmeans_cluster(data):\r\n",
    "    km1 = KMeans(n_clusters=3, random_state=888)\r\n",
    "    result = km1.fit_predict(data)\r\n",
    "\r\n",
    "    return result"
   ]
  },
  {
   "cell_type": "code",
   "execution_count": 16,
   "metadata": {
    "execution": {
     "iopub.execute_input": "2023-06-27T13:40:31.623229Z",
     "iopub.status.busy": "2023-06-27T13:40:31.622362Z",
     "iopub.status.idle": "2023-06-27T13:40:31.664952Z",
     "shell.execute_reply": "2023-06-27T13:40:31.664054Z",
     "shell.execute_reply.started": "2023-06-27T13:40:31.623189Z"
    },
    "scrolled": true
   },
   "outputs": [
    {
     "data": {
      "text/plain": [
       "array([-1, -1, -1, -1, -1, -1, -1, -1, -1, -1, -1, -1, -1, -1, -1, -1, -1,\n",
       "       -1, -1, -1, -1, -1, -1, -1, -1, -1, -1, -1, -1, -1, -1, -1, -1, -1,\n",
       "       -1, -1, -1, -1, -1, -1, -1, -1, -1, -1, -1, -1, -1, -1, -1, -1, -1,\n",
       "       -1, -1, -1, -1, -1, -1, -1, -1, -2, -2, -2, -2, -2, -2, -2, -2, -2,\n",
       "       -2, -2, -2, -2, -2, -2, -2, -2, -2, -2, -2, -2, -2, -2, -2, -2, -2,\n",
       "       -2, -2, -2, -2, -2, -2, -2, -2, -2, -2, -2, -2, -2, -2, -2, -2, -2,\n",
       "       -2, -2, -2, -2, -2, -2, -2, -2, -2, -2, -2, -2, -2, -2, -2, -2, -2,\n",
       "       -2, -2, -2, -2, -2, -2, -2, -2, -2, -2, -2, -3, -3, -3, -3, -3, -3,\n",
       "       -3, -3, -3, -3, -3, -3, -3, -3, -3, -3, -3, -3, -3, -3, -3, -3, -3,\n",
       "       -3, -3, -3, -3, -3, -3, -3, -3, -3, -3, -3, -3, -3, -3, -3, -3, -3,\n",
       "       -3, -3, -3, -3, -3, -3, -3, -3])"
      ]
     },
     "execution_count": 16,
     "metadata": {},
     "output_type": "execute_result"
    }
   ],
   "source": [
    "# 聚类\r\n",
    "y_pred = kmeans_cluster(X)\r\n",
    "y[y == 0] = -1\r\n",
    "y[y == 1] = -2\r\n",
    "y[y == 2] = -3\r\n",
    "y"
   ]
  },
  {
   "cell_type": "code",
   "execution_count": 17,
   "metadata": {
    "execution": {
     "iopub.execute_input": "2023-06-27T13:40:33.108467Z",
     "iopub.status.busy": "2023-06-27T13:40:33.107227Z",
     "iopub.status.idle": "2023-06-27T13:40:33.117854Z",
     "shell.execute_reply": "2023-06-27T13:40:33.116635Z",
     "shell.execute_reply.started": "2023-06-27T13:40:33.108422Z"
    },
    "scrolled": true
   },
   "outputs": [
    {
     "data": {
      "text/plain": [
       "array([-1, -1, -1, -1, -1, -1, -1, -1, -1, -1, -1, -1, -1, -1, -1, -1, -1,\n",
       "       -1, -1, -1, -1, -1, -1, -1, -1, -1, -1, -1, -1, -1, -1, -1, -1, -1,\n",
       "       -1, -1, -1, -1, -1, -1, -1, -1, -1, -1, -1, -1, -1, -1, -1, -1, -1,\n",
       "       -1, -1, -1, -1, -1, -1, -1, -1, -2, -2, -3, -2, -2, -2, -2, -2, -2,\n",
       "       -2, -2, -2, -2, -2, -1, -2, -2, -2, -2, -2, -2, -2, -2, -2, -3, -2,\n",
       "       -2, -2, -2, -2, -2, -2, -2, -2, -2, -2, -1, -2, -2, -2, -2, -2, -2,\n",
       "       -2, -2, -2, -2, -2, -2, -2, -2, -2, -2, -2, -2, -2, -2, -2, -2, -3,\n",
       "       -2, -2, -1, -2, -2, -2, -2, -2, -2, -2, -2, -3, -3, -3, -3, -3, -3,\n",
       "       -3, -3, -3, -3, -3, -3, -3, -3, -3, -3, -3, -3, -3, -3, -3, -3, -3,\n",
       "       -3, -3, -3, -3, -3, -3, -3, -3, -3, -3, -3, -3, -3, -3, -3, -3, -3,\n",
       "       -3, -3, -3, -3, -3, -3, -3, -3], dtype=int32)"
      ]
     },
     "execution_count": 17,
     "metadata": {},
     "output_type": "execute_result"
    }
   ],
   "source": [
    "y_pred[y_pred == 2] = -1\r\n",
    "y_pred[y_pred == 1] = -2\r\n",
    "y_pred[y_pred == 0] = -3\r\n",
    "y_pred"
   ]
  },
  {
   "cell_type": "code",
   "execution_count": 18,
   "metadata": {
    "execution": {
     "iopub.execute_input": "2023-06-27T13:40:35.113812Z",
     "iopub.status.busy": "2023-06-27T13:40:35.113404Z",
     "iopub.status.idle": "2023-06-27T13:40:35.122828Z",
     "shell.execute_reply": "2023-06-27T13:40:35.121289Z",
     "shell.execute_reply.started": "2023-06-27T13:40:35.113783Z"
    },
    "scrolled": true
   },
   "outputs": [
    {
     "name": "stdout",
     "output_type": "stream",
     "text": [
      "聚类的精确度：0.97\r\n"
     ]
    }
   ],
   "source": [
    "# 计算吻合度\r\n",
    "acc = accuracy_score(y, y_pred)\r\n",
    "print(\"聚类的精确度：{:.2f}\".format(acc))"
   ]
  },
  {
   "cell_type": "code",
   "execution_count": null,
   "metadata": {
    "scrolled": true
   },
   "outputs": [],
   "source": []
  }
 ],
 "metadata": {
  "kernelspec": {
   "display_name": "Python 3",
   "language": "python",
   "name": "py35-paddle1.2.0"
  },
  "language_info": {
   "codemirror_mode": {
    "name": "ipython",
    "version": 3
   },
   "file_extension": ".py",
   "mimetype": "text/x-python",
   "name": "python",
   "nbconvert_exporter": "python",
   "pygments_lexer": "ipython3",
   "version": "3.7.4"
  }
 },
 "nbformat": 4,
 "nbformat_minor": 4
}
